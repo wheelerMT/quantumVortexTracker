{
 "cells": [
  {
   "cell_type": "code",
   "execution_count": 1,
   "metadata": {
    "collapsed": true
   },
   "outputs": [],
   "source": [
    "import h5py\n",
    "from tensorflow import keras"
   ]
  },
  {
   "cell_type": "code",
   "execution_count": 2,
   "outputs": [],
   "source": [
    "# Load in data\n",
    "data = h5py.File('../data/data.hdf5', 'r')\n",
    "phases = data['phases']\n",
    "positions = data['positions']\n",
    "phases_train, phases_val = phases[:-2000, ...], phases[-2000:, ...]\n",
    "positions_train, positions_val = positions[:-2000, ...], positions[-2000:, ...]\n",
    "\n",
    "test_data = h5py.File('../data/test_data.hdf5', 'r')\n",
    "phases_test = test_data['phases']\n",
    "positions_test = test_data['positions']"
   ],
   "metadata": {
    "collapsed": false
   }
  },
  {
   "cell_type": "code",
   "execution_count": 3,
   "outputs": [
    {
     "name": "stdout",
     "output_type": "stream",
     "text": [
      "Model: \"sequential\"\n",
      "_________________________________________________________________\n",
      " Layer (type)                Output Shape              Param #   \n",
      "=================================================================\n",
      " resizing (Resizing)         (None, 128, 128, 1)       0         \n",
      "                                                                 \n",
      " conv2d (Conv2D)             (None, 122, 122, 32)      1600      \n",
      "                                                                 \n",
      " batch_normalization (BatchN  (None, 122, 122, 32)     128       \n",
      " ormalization)                                                   \n",
      "                                                                 \n",
      " max_pooling2d (MaxPooling2D  (None, 61, 61, 32)       0         \n",
      " )                                                               \n",
      "                                                                 \n",
      " conv2d_1 (Conv2D)           (None, 59, 59, 64)        18496     \n",
      "                                                                 \n",
      " batch_normalization_1 (Batc  (None, 59, 59, 64)       256       \n",
      " hNormalization)                                                 \n",
      "                                                                 \n",
      " max_pooling2d_1 (MaxPooling  (None, 29, 29, 64)       0         \n",
      " 2D)                                                             \n",
      "                                                                 \n",
      " conv2d_2 (Conv2D)           (None, 27, 27, 64)        36928     \n",
      "                                                                 \n",
      " batch_normalization_2 (Batc  (None, 27, 27, 64)       256       \n",
      " hNormalization)                                                 \n",
      "                                                                 \n",
      " max_pooling2d_2 (MaxPooling  (None, 13, 13, 64)       0         \n",
      " 2D)                                                             \n",
      "                                                                 \n",
      " flatten (Flatten)           (None, 10816)             0         \n",
      "                                                                 \n",
      " dense (Dense)               (None, 1024)              11076608  \n",
      "                                                                 \n",
      " dense_1 (Dense)             (None, 256)               262400    \n",
      "                                                                 \n",
      " dense_2 (Dense)             (None, 4)                 1028      \n",
      "                                                                 \n",
      "=================================================================\n",
      "Total params: 11,397,700\n",
      "Trainable params: 11,397,380\n",
      "Non-trainable params: 320\n",
      "_________________________________________________________________\n"
     ]
    }
   ],
   "source": [
    "model = keras.Sequential()\n",
    "\n",
    "model.add(keras.layers.Resizing(128, 128, input_shape=(256, 256, 1)))\n",
    "model.add(keras.layers.Conv2D(filters=32, kernel_size=7, activation='relu'))\n",
    "model.add(keras.layers.BatchNormalization(axis=3))\n",
    "model.add(keras.layers.MaxPooling2D((2, 2)))\n",
    "\n",
    "model.add(keras.layers.Conv2D(64, (3, 3), activation='relu'))\n",
    "model.add(keras.layers.BatchNormalization(axis=3))\n",
    "model.add(keras.layers.MaxPooling2D((2, 2)))\n",
    "\n",
    "model.add(keras.layers.Conv2D(64, (3, 3), activation='relu'))\n",
    "model.add(keras.layers.BatchNormalization(axis=3))\n",
    "model.add(keras.layers.MaxPooling2D((2, 2)))\n",
    "\n",
    "model.add(keras.layers.Flatten())\n",
    "model.add(keras.layers.Dense(1024, activation='relu'))\n",
    "model.add(keras.layers.Dense(256, activation='relu'))\n",
    "model.add(keras.layers.Dense(4))\n",
    "model.summary()"
   ],
   "metadata": {
    "collapsed": false
   }
  },
  {
   "cell_type": "code",
   "execution_count": 4,
   "outputs": [],
   "source": [
    "early_stopping = keras.callbacks.EarlyStopping(monitor='val_loss', patience=2, verbose=1, restore_best_weights=True)"
   ],
   "metadata": {
    "collapsed": false
   }
  },
  {
   "cell_type": "code",
   "execution_count": 5,
   "outputs": [
    {
     "name": "stdout",
     "output_type": "stream",
     "text": [
      "Epoch 1/25\n",
      "1000/1000 [==============================] - 25s 12ms/step - loss: 33.7296 - accuracy: 0.9103 - val_loss: 11.1971 - val_accuracy: 0.9440\n",
      "Epoch 2/25\n",
      "1000/1000 [==============================] - 11s 11ms/step - loss: 9.4395 - accuracy: 0.9520 - val_loss: 7.6586 - val_accuracy: 0.9495\n",
      "Epoch 3/25\n",
      "1000/1000 [==============================] - 11s 11ms/step - loss: 8.3468 - accuracy: 0.9530 - val_loss: 6.6085 - val_accuracy: 0.9415\n",
      "Epoch 4/25\n",
      "1000/1000 [==============================] - 11s 11ms/step - loss: 6.4993 - accuracy: 0.9610 - val_loss: 7.6011 - val_accuracy: 0.9575\n",
      "Epoch 5/25\n",
      "1000/1000 [==============================] - 10s 10ms/step - loss: 5.4221 - accuracy: 0.9631 - val_loss: 3.9942 - val_accuracy: 0.9675\n",
      "Epoch 6/25\n",
      "1000/1000 [==============================] - 10s 10ms/step - loss: 4.5208 - accuracy: 0.9645 - val_loss: 4.8391 - val_accuracy: 0.9605\n",
      "Epoch 7/25\n",
      "1000/1000 [==============================] - 10s 10ms/step - loss: 4.9058 - accuracy: 0.9645 - val_loss: 3.6416 - val_accuracy: 0.9615\n",
      "Epoch 8/25\n",
      "1000/1000 [==============================] - 11s 11ms/step - loss: 3.6973 - accuracy: 0.9705 - val_loss: 5.5760 - val_accuracy: 0.9630\n",
      "Epoch 9/25\n",
      "1000/1000 [==============================] - 11s 10ms/step - loss: 3.4690 - accuracy: 0.9695 - val_loss: 3.1904 - val_accuracy: 0.9770\n",
      "Epoch 10/25\n",
      "1000/1000 [==============================] - 10s 11ms/step - loss: 3.1626 - accuracy: 0.9720 - val_loss: 2.8437 - val_accuracy: 0.9760\n",
      "Epoch 11/25\n",
      "1000/1000 [==============================] - 11s 11ms/step - loss: 2.9452 - accuracy: 0.9759 - val_loss: 2.4851 - val_accuracy: 0.9690\n",
      "Epoch 12/25\n",
      "1000/1000 [==============================] - 10s 10ms/step - loss: 2.5035 - accuracy: 0.9750 - val_loss: 2.8676 - val_accuracy: 0.9640\n",
      "Epoch 13/25\n",
      " 996/1000 [============================>.] - ETA: 0s - loss: 2.2228 - accuracy: 0.9763Restoring model weights from the end of the best epoch: 11.\n",
      "1000/1000 [==============================] - 10s 10ms/step - loss: 2.2219 - accuracy: 0.9764 - val_loss: 3.1308 - val_accuracy: 0.9690\n",
      "Epoch 13: early stopping\n"
     ]
    }
   ],
   "source": [
    "model.compile(optimizer='adam',loss=keras.losses.MeanSquaredError(), metrics=['accuracy'])\n",
    "\n",
    "history = model.fit(phases_train,\n",
    "                    positions_train,\n",
    "                    epochs=25,\n",
    "                    batch_size=8,\n",
    "                    validation_data=(phases_val, positions_val),\n",
    "                    callbacks=[early_stopping]\n",
    "                    )"
   ],
   "metadata": {
    "collapsed": false
   }
  },
  {
   "cell_type": "code",
   "execution_count": 6,
   "outputs": [
    {
     "name": "stderr",
     "output_type": "stream",
     "text": [
      "WARNING:absl:Found untraced functions such as _jit_compiled_convolution_op, _jit_compiled_convolution_op, _jit_compiled_convolution_op while saving (showing 3 of 3). These functions will not be directly callable after loading.\n"
     ]
    },
    {
     "name": "stdout",
     "output_type": "stream",
     "text": [
      "INFO:tensorflow:Assets written to: vortex_detection\\assets\n"
     ]
    },
    {
     "name": "stderr",
     "output_type": "stream",
     "text": [
      "INFO:tensorflow:Assets written to: vortex_detection\\assets\n"
     ]
    }
   ],
   "source": [
    "model.save(\"vortex_detection\", save_format=\"tf\")"
   ],
   "metadata": {
    "collapsed": false
   }
  }
 ],
 "metadata": {
  "kernelspec": {
   "display_name": "Python 3",
   "language": "python",
   "name": "python3"
  },
  "language_info": {
   "codemirror_mode": {
    "name": "ipython",
    "version": 2
   },
   "file_extension": ".py",
   "mimetype": "text/x-python",
   "name": "python",
   "nbconvert_exporter": "python",
   "pygments_lexer": "ipython2",
   "version": "2.7.6"
  }
 },
 "nbformat": 4,
 "nbformat_minor": 0
}
