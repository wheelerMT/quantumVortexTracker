{
 "cells": [
  {
   "cell_type": "code",
   "execution_count": 1,
   "metadata": {
    "collapsed": true
   },
   "outputs": [],
   "source": [
    "import h5py\n",
    "import numpy as np\n",
    "from tensorflow import keras\n",
    "import matplotlib.pyplot as plt\n",
    "import pygpe.scalar as gpe"
   ]
  },
  {
   "cell_type": "code",
   "execution_count": 2,
   "outputs": [],
   "source": [
    "# Load in data\n",
    "data = h5py.File('../data/data.hdf5', 'r')\n",
    "phases = data['phases']\n",
    "positions = data['positions']\n",
    "phases_train, phases_val = phases[:-2000, ...], phases[-2000:, ...]\n",
    "positions_train, positions_val = positions[:-2000, ...], positions[-2000:, ...]\n",
    "\n",
    "test_data = h5py.File('../data/test_data.hdf5', 'r')\n",
    "phases_test = test_data['phases']\n",
    "positions_test = test_data['positions']"
   ],
   "metadata": {
    "collapsed": false
   }
  },
  {
   "cell_type": "code",
   "execution_count": 3,
   "outputs": [
    {
     "name": "stdout",
     "output_type": "stream",
     "text": [
      "Model: \"sequential\"\n",
      "_________________________________________________________________\n",
      " Layer (type)                Output Shape              Param #   \n",
      "=================================================================\n",
      " conv2d (Conv2D)             (None, 250, 250, 32)      1600      \n",
      "                                                                 \n",
      " batch_normalization (BatchN  (None, 250, 250, 32)     128       \n",
      " ormalization)                                                   \n",
      "                                                                 \n",
      " max_pooling2d (MaxPooling2D  (None, 125, 125, 32)     0         \n",
      " )                                                               \n",
      "                                                                 \n",
      " conv2d_1 (Conv2D)           (None, 123, 123, 64)      18496     \n",
      "                                                                 \n",
      " batch_normalization_1 (Batc  (None, 123, 123, 64)     256       \n",
      " hNormalization)                                                 \n",
      "                                                                 \n",
      " max_pooling2d_1 (MaxPooling  (None, 61, 61, 64)       0         \n",
      " 2D)                                                             \n",
      "                                                                 \n",
      " conv2d_2 (Conv2D)           (None, 59, 59, 64)        36928     \n",
      "                                                                 \n",
      " batch_normalization_2 (Batc  (None, 59, 59, 64)       256       \n",
      " hNormalization)                                                 \n",
      "                                                                 \n",
      " max_pooling2d_2 (MaxPooling  (None, 29, 29, 64)       0         \n",
      " 2D)                                                             \n",
      "                                                                 \n",
      " flatten (Flatten)           (None, 53824)             0         \n",
      "                                                                 \n",
      " dense (Dense)               (None, 1024)              55116800  \n",
      "                                                                 \n",
      " dense_1 (Dense)             (None, 256)               262400    \n",
      "                                                                 \n",
      " dense_2 (Dense)             (None, 4)                 1028      \n",
      "                                                                 \n",
      "=================================================================\n",
      "Total params: 55,437,892\n",
      "Trainable params: 55,437,572\n",
      "Non-trainable params: 320\n",
      "_________________________________________________________________\n"
     ]
    }
   ],
   "source": [
    "model = keras.Sequential()\n",
    "\n",
    "model.add(keras.layers.Conv2D(filters=32, kernel_size=7, activation='relu', input_shape=(256, 256, 1)))\n",
    "model.add(keras.layers.BatchNormalization(axis=3))\n",
    "model.add(keras.layers.MaxPooling2D((2, 2)))\n",
    "\n",
    "model.add(keras.layers.Conv2D(64, (3, 3), activation='relu'))\n",
    "model.add(keras.layers.BatchNormalization(axis=3))\n",
    "model.add(keras.layers.MaxPooling2D((2, 2)))\n",
    "\n",
    "model.add(keras.layers.Conv2D(64, (3, 3), activation='relu'))\n",
    "model.add(keras.layers.BatchNormalization(axis=3))\n",
    "model.add(keras.layers.MaxPooling2D((2, 2)))\n",
    "\n",
    "model.add(keras.layers.Flatten())\n",
    "model.add(keras.layers.Dense(1024, activation='relu'))\n",
    "model.add(keras.layers.Dense(256, activation='relu'))\n",
    "model.add(keras.layers.Dense(4))\n",
    "model.summary()"
   ],
   "metadata": {
    "collapsed": false
   }
  },
  {
   "cell_type": "code",
   "execution_count": 4,
   "outputs": [],
   "source": [
    "early_stopping = keras.callbacks.EarlyStopping(monitor='val_loss', patience=2, verbose=1, restore_best_weights=True)"
   ],
   "metadata": {
    "collapsed": false
   }
  },
  {
   "cell_type": "code",
   "execution_count": 5,
   "outputs": [
    {
     "name": "stdout",
     "output_type": "stream",
     "text": [
      "Epoch 1/25\n",
      "1000/1000 [==============================] - 42s 36ms/step - loss: 52.0149 - accuracy: 0.8861 - val_loss: 15.9506 - val_accuracy: 0.9420\n",
      "Epoch 2/25\n",
      "1000/1000 [==============================] - 34s 34ms/step - loss: 13.3306 - accuracy: 0.9427 - val_loss: 10.6659 - val_accuracy: 0.9480\n",
      "Epoch 3/25\n",
      "1000/1000 [==============================] - 34s 34ms/step - loss: 12.2756 - accuracy: 0.9416 - val_loss: 13.0414 - val_accuracy: 0.9475\n",
      "Epoch 4/25\n",
      "1000/1000 [==============================] - ETA: 0s - loss: 9.0932 - accuracy: 0.9530Restoring model weights from the end of the best epoch: 2.\n",
      "1000/1000 [==============================] - 34s 34ms/step - loss: 9.0932 - accuracy: 0.9530 - val_loss: 12.4037 - val_accuracy: 0.9500\n",
      "Epoch 4: early stopping\n"
     ]
    }
   ],
   "source": [
    "model.compile(optimizer='adam',loss=keras.losses.MeanSquaredError(), metrics=['accuracy'])\n",
    "\n",
    "history = model.fit(phases_train,\n",
    "                    positions_train,\n",
    "                    epochs=25,\n",
    "                    batch_size=8,\n",
    "                    validation_data=(phases_val, positions_val),\n",
    "                    callbacks=[early_stopping]\n",
    "                    )"
   ],
   "metadata": {
    "collapsed": false
   }
  },
  {
   "cell_type": "code",
   "execution_count": 14,
   "outputs": [
    {
     "name": "stderr",
     "output_type": "stream",
     "text": [
      "WARNING:absl:Found untraced functions such as _jit_compiled_convolution_op, _jit_compiled_convolution_op, _jit_compiled_convolution_op while saving (showing 3 of 3). These functions will not be directly callable after loading.\n"
     ]
    },
    {
     "name": "stdout",
     "output_type": "stream",
     "text": [
      "INFO:tensorflow:Assets written to: vortex_detection\\assets\n"
     ]
    },
    {
     "name": "stderr",
     "output_type": "stream",
     "text": [
      "INFO:tensorflow:Assets written to: vortex_detection\\assets\n"
     ]
    }
   ],
   "source": [
    "model.save(\"vortex_detection\", save_format=\"tf\")"
   ],
   "metadata": {
    "collapsed": false
   }
  }
 ],
 "metadata": {
  "kernelspec": {
   "display_name": "Python 3",
   "language": "python",
   "name": "python3"
  },
  "language_info": {
   "codemirror_mode": {
    "name": "ipython",
    "version": 2
   },
   "file_extension": ".py",
   "mimetype": "text/x-python",
   "name": "python",
   "nbconvert_exporter": "python",
   "pygments_lexer": "ipython2",
   "version": "2.7.6"
  }
 },
 "nbformat": 4,
 "nbformat_minor": 0
}
